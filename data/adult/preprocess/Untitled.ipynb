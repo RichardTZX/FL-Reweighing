{
 "cells": [
  {
   "cell_type": "code",
   "execution_count": 7,
   "id": "33530911",
   "metadata": {},
   "outputs": [],
   "source": [
    "import numpy as np\n",
    "import tensorflow as tf\n",
    "import sys\n",
    "import matplotlib.pyplot as plt\n",
    "\n",
    "def test1():\n",
    "    teston = get_indices_workers_het(49000,1500)\n",
    "    print(\"Shapes : \", len(teston))\n",
    "    tot = 0\n",
    "    his = []\n",
    "    for i in range(len(teston)):\n",
    "        a= teston[i].shape[0]\n",
    "        his.append(a)\n",
    "        tot += a\n",
    "    print(\"Total = \", tot)\n",
    "    plt.hist(his,bins = 10, color = 'blue',\n",
    "            edgecolor = 'black')\n",
    "    plt.xlabel('valeurs')\n",
    "    plt.ylabel('nombres')\n",
    "    plt.title('Exemple d\\' histogramme simple')\n",
    "    plt.show()\n",
    "\n",
    "\n",
    "def get_indices_workers_het(ns, num_workers): #Generate the samples indices for each worker\n",
    "    num_samples = ns\n",
    "    mean1 = (num_samples / (2*0.8*num_workers)) #80% of users will hold 50% of data\n",
    "    mean2 = (num_samples / (2*0.2*num_workers)) #20% of the rest will hold the 50% remaining data\n",
    "\n",
    "    print(\"Mean 1 : \", mean1)\n",
    "    print(\"Mean 2 : \", mean2)\n",
    "    indices = np.arange(ns) # Indices of the samples\n",
    "    np.random.shuffle(indices)\n",
    "\n",
    "    data_remaining = num_samples # Number of samples undistributed remaining in the dataset\n",
    "    num_samples_workers =  [0]\n",
    "    for i in range(num_workers-1):\n",
    "        if i < 0.8*num_workers + 1: # 80% users' data\n",
    "            num_samples_i = np.random.poisson(mean1)\n",
    "            if data_remaining - num_samples_i < 0:\n",
    "                num_samples_i = data_remaining\n",
    "                break\n",
    "            num_samples_workers.append(num_samples_i)\n",
    "            data_remaining -= num_samples_i\n",
    "        else: # 20% remaining users' data\n",
    "            num_samples_i = np.random.poisson(mean2)\n",
    "            if data_remaining - num_samples_i < 0:\n",
    "                num_samples_i = data_remaining\n",
    "                break\n",
    "\n",
    "            num_samples_workers.append(num_samples_i)\n",
    "            data_remaining -= num_samples_i\n",
    "\n",
    "    num_samples_workers.append(data_remaining)\n",
    "    make_indices = np.cumsum(num_samples_workers)\n",
    "    indices_workers = [indices[make_indices[i]:make_indices[i+1]] for i in range(len(make_indices)-1)] #For each worker, we have a list of the samples he possesses\n",
    "    return indices_workers\n",
    "\n"
   ]
  },
  {
   "cell_type": "code",
   "execution_count": 8,
   "id": "9ed8c099",
   "metadata": {},
   "outputs": [
    {
     "name": "stdout",
     "output_type": "stream",
     "text": [
      "Mean 1 :  20.416666666666668\n",
      "Mean 2 :  81.66666666666667\n",
      "Shapes :  1500\n",
      "Total =  49000\n"
     ]
    },
    {
     "data": {
      "image/png": "[encoded data removed]",
      "text/plain": [
       "<Figure size 432x288 with 1 Axes>"
      ]
     },
     "metadata": {
      "needs_background": "light"
     },
     "output_type": "display_data"
    }
   ],
   "source": [
    "test1()"
   ]
  }
 ],
 "metadata": {
  "kernelspec": {
   "display_name": "Python 3",
   "language": "python",
   "name": "python3"
  },
  "language_info": {
   "codemirror_mode": {
    "name": "ipython",
    "version": 3
   },
   "file_extension": ".py",
   "mimetype": "text/x-python",
   "name": "python",
   "nbconvert_exporter": "python",
   "pygments_lexer": "ipython3",
   "version": "3.6.14"
  }
 },
 "nbformat": 4,
 "nbformat_minor": 5
}
